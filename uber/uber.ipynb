{
 "cells": [
  {
   "cell_type": "code",
   "execution_count": 47,
   "id": "ea5fc081-770c-47c6-9492-56613342d432",
   "metadata": {},
   "outputs": [],
   "source": [
    "import pandas as pd\n",
    "import numpy as np\n",
    "from sklearn.pipeline import Pipeline\n",
    "from sklearn.impute import SimpleImputer\n",
    "from sklearn.preprocessing import  OneHotEncoder, StandardScaler\n",
    "from sklearn.compose import ColumnTransformer\n",
    "from sklearn.cluster import KMeans\n",
    "import plotly.express as px\n",
    "import plotly.graph_objects as go\n",
    "import plotly.io as pio\n",
    "import matplotlib.pyplot as plt\n",
    "import seaborn as sns\n",
    "import warnings\n",
    "from functions import display_parallel_coordinates, display_parallel_coordinates_centroids\n",
    "\n",
    "warnings.filterwarnings(\"ignore\", category=DeprecationWarning) # to avoid deprecation warnings"
   ]
  },
  {
   "cell_type": "code",
   "execution_count": 21,
   "id": "c3db332b-ae12-400f-a163-27068cdbbb66",
   "metadata": {},
   "outputs": [],
   "source": [
    "df = pd.read_csv('uber-raw-data-sep14.csv')"
   ]
  },
  {
   "cell_type": "code",
   "execution_count": 22,
   "id": "1be71343-788a-40b6-b06d-13b93e588fde",
   "metadata": {},
   "outputs": [
    {
     "data": {
      "text/html": [
       "<div>\n",
       "<style scoped>\n",
       "    .dataframe tbody tr th:only-of-type {\n",
       "        vertical-align: middle;\n",
       "    }\n",
       "\n",
       "    .dataframe tbody tr th {\n",
       "        vertical-align: top;\n",
       "    }\n",
       "\n",
       "    .dataframe thead th {\n",
       "        text-align: right;\n",
       "    }\n",
       "</style>\n",
       "<table border=\"1\" class=\"dataframe\">\n",
       "  <thead>\n",
       "    <tr style=\"text-align: right;\">\n",
       "      <th></th>\n",
       "      <th>Date/Time</th>\n",
       "      <th>Lat</th>\n",
       "      <th>Lon</th>\n",
       "      <th>Base</th>\n",
       "    </tr>\n",
       "  </thead>\n",
       "  <tbody>\n",
       "    <tr>\n",
       "      <th>0</th>\n",
       "      <td>9/1/2014 0:01:00</td>\n",
       "      <td>40.2201</td>\n",
       "      <td>-74.0021</td>\n",
       "      <td>B02512</td>\n",
       "    </tr>\n",
       "    <tr>\n",
       "      <th>1</th>\n",
       "      <td>9/1/2014 0:01:00</td>\n",
       "      <td>40.7500</td>\n",
       "      <td>-74.0027</td>\n",
       "      <td>B02512</td>\n",
       "    </tr>\n",
       "    <tr>\n",
       "      <th>2</th>\n",
       "      <td>9/1/2014 0:03:00</td>\n",
       "      <td>40.7559</td>\n",
       "      <td>-73.9864</td>\n",
       "      <td>B02512</td>\n",
       "    </tr>\n",
       "    <tr>\n",
       "      <th>3</th>\n",
       "      <td>9/1/2014 0:06:00</td>\n",
       "      <td>40.7450</td>\n",
       "      <td>-73.9889</td>\n",
       "      <td>B02512</td>\n",
       "    </tr>\n",
       "    <tr>\n",
       "      <th>4</th>\n",
       "      <td>9/1/2014 0:11:00</td>\n",
       "      <td>40.8145</td>\n",
       "      <td>-73.9444</td>\n",
       "      <td>B02512</td>\n",
       "    </tr>\n",
       "  </tbody>\n",
       "</table>\n",
       "</div>"
      ],
      "text/plain": [
       "          Date/Time      Lat      Lon    Base\n",
       "0  9/1/2014 0:01:00  40.2201 -74.0021  B02512\n",
       "1  9/1/2014 0:01:00  40.7500 -74.0027  B02512\n",
       "2  9/1/2014 0:03:00  40.7559 -73.9864  B02512\n",
       "3  9/1/2014 0:06:00  40.7450 -73.9889  B02512\n",
       "4  9/1/2014 0:11:00  40.8145 -73.9444  B02512"
      ]
     },
     "execution_count": 22,
     "metadata": {},
     "output_type": "execute_result"
    }
   ],
   "source": [
    "df.head()"
   ]
  },
  {
   "cell_type": "code",
   "execution_count": 23,
   "id": "03599417-2994-41ca-965c-0d199dbb2afb",
   "metadata": {},
   "outputs": [
    {
     "data": {
      "text/plain": [
       "(1028136, 4)"
      ]
     },
     "execution_count": 23,
     "metadata": {},
     "output_type": "execute_result"
    }
   ],
   "source": [
    "df.shape"
   ]
  },
  {
   "cell_type": "markdown",
   "id": "641119ad-3ade-4107-87ea-b9fff4e355b9",
   "metadata": {},
   "source": [
    "# Preprocessing"
   ]
  },
  {
   "cell_type": "code",
   "execution_count": 24,
   "id": "7c788add-3d70-4779-aff5-fa30f430ad9b",
   "metadata": {},
   "outputs": [],
   "source": [
    "df['Date/Time'] = pd.to_datetime(df['Date/Time'],format='%m/%d/%Y %H:%M:%S')"
   ]
  },
  {
   "cell_type": "code",
   "execution_count": 25,
   "id": "4b001ef0-f79f-4101-a996-417319da5192",
   "metadata": {},
   "outputs": [],
   "source": [
    "df['Date/Time'] = pd.to_datetime(df['Date/Time'],format='%m/%d/%Y %H:%M:%S')\n",
    "df['Day'] = df['Date/Time'].dt.day\n",
    "df['DayOfWeek'] = df['Date/Time'].dt.dayofweek\n",
    "df['Month'] = df['Date/Time'].dt.month\n",
    "df['Year'] = df['Date/Time'].dt.year\n",
    "df['Hour'] = df['Date/Time'].dt.hour\n",
    "df['Minute'] = df['Date/Time'].dt.minute"
   ]
  },
  {
   "cell_type": "code",
   "execution_count": 26,
   "id": "20f16cbf-9529-4891-a88f-30c077cfb80d",
   "metadata": {},
   "outputs": [],
   "source": [
    "df = df.drop('Date/Time', axis=1)"
   ]
  },
  {
   "cell_type": "code",
   "execution_count": 27,
   "id": "9cec7269-91db-464a-b103-c1b61bd9287d",
   "metadata": {},
   "outputs": [
    {
     "data": {
      "text/plain": [
       "Lat          0\n",
       "Lon          0\n",
       "Base         0\n",
       "Day          0\n",
       "DayOfWeek    0\n",
       "Month        0\n",
       "Year         0\n",
       "Hour         0\n",
       "Minute       0\n",
       "dtype: int64"
      ]
     },
     "execution_count": 27,
     "metadata": {},
     "output_type": "execute_result"
    }
   ],
   "source": [
    "df.isna().sum()"
   ]
  },
  {
   "cell_type": "code",
   "execution_count": 28,
   "id": "2b338929",
   "metadata": {},
   "outputs": [
    {
     "data": {
      "text/html": [
       "<div>\n",
       "<style scoped>\n",
       "    .dataframe tbody tr th:only-of-type {\n",
       "        vertical-align: middle;\n",
       "    }\n",
       "\n",
       "    .dataframe tbody tr th {\n",
       "        vertical-align: top;\n",
       "    }\n",
       "\n",
       "    .dataframe thead th {\n",
       "        text-align: right;\n",
       "    }\n",
       "</style>\n",
       "<table border=\"1\" class=\"dataframe\">\n",
       "  <thead>\n",
       "    <tr style=\"text-align: right;\">\n",
       "      <th></th>\n",
       "      <th>Lat</th>\n",
       "      <th>Lon</th>\n",
       "      <th>Base</th>\n",
       "      <th>Day</th>\n",
       "      <th>DayOfWeek</th>\n",
       "      <th>Month</th>\n",
       "      <th>Year</th>\n",
       "      <th>Hour</th>\n",
       "      <th>Minute</th>\n",
       "    </tr>\n",
       "  </thead>\n",
       "  <tbody>\n",
       "    <tr>\n",
       "      <th>0</th>\n",
       "      <td>40.2201</td>\n",
       "      <td>-74.0021</td>\n",
       "      <td>B02512</td>\n",
       "      <td>1</td>\n",
       "      <td>0</td>\n",
       "      <td>9</td>\n",
       "      <td>2014</td>\n",
       "      <td>0</td>\n",
       "      <td>1</td>\n",
       "    </tr>\n",
       "    <tr>\n",
       "      <th>1</th>\n",
       "      <td>40.7500</td>\n",
       "      <td>-74.0027</td>\n",
       "      <td>B02512</td>\n",
       "      <td>1</td>\n",
       "      <td>0</td>\n",
       "      <td>9</td>\n",
       "      <td>2014</td>\n",
       "      <td>0</td>\n",
       "      <td>1</td>\n",
       "    </tr>\n",
       "    <tr>\n",
       "      <th>2</th>\n",
       "      <td>40.7559</td>\n",
       "      <td>-73.9864</td>\n",
       "      <td>B02512</td>\n",
       "      <td>1</td>\n",
       "      <td>0</td>\n",
       "      <td>9</td>\n",
       "      <td>2014</td>\n",
       "      <td>0</td>\n",
       "      <td>3</td>\n",
       "    </tr>\n",
       "    <tr>\n",
       "      <th>3</th>\n",
       "      <td>40.7450</td>\n",
       "      <td>-73.9889</td>\n",
       "      <td>B02512</td>\n",
       "      <td>1</td>\n",
       "      <td>0</td>\n",
       "      <td>9</td>\n",
       "      <td>2014</td>\n",
       "      <td>0</td>\n",
       "      <td>6</td>\n",
       "    </tr>\n",
       "    <tr>\n",
       "      <th>4</th>\n",
       "      <td>40.8145</td>\n",
       "      <td>-73.9444</td>\n",
       "      <td>B02512</td>\n",
       "      <td>1</td>\n",
       "      <td>0</td>\n",
       "      <td>9</td>\n",
       "      <td>2014</td>\n",
       "      <td>0</td>\n",
       "      <td>11</td>\n",
       "    </tr>\n",
       "  </tbody>\n",
       "</table>\n",
       "</div>"
      ],
      "text/plain": [
       "       Lat      Lon    Base  Day  DayOfWeek  Month  Year  Hour  Minute\n",
       "0  40.2201 -74.0021  B02512    1          0      9  2014     0       1\n",
       "1  40.7500 -74.0027  B02512    1          0      9  2014     0       1\n",
       "2  40.7559 -73.9864  B02512    1          0      9  2014     0       3\n",
       "3  40.7450 -73.9889  B02512    1          0      9  2014     0       6\n",
       "4  40.8145 -73.9444  B02512    1          0      9  2014     0      11"
      ]
     },
     "execution_count": 28,
     "metadata": {},
     "output_type": "execute_result"
    }
   ],
   "source": [
    "df.head()"
   ]
  },
  {
   "cell_type": "code",
   "execution_count": 29,
   "id": "827c9cac-77aa-47bd-b486-46ffee3bf9a9",
   "metadata": {},
   "outputs": [],
   "source": [
    "numeric_features = ['Lat', 'Lon', 'DayOfWeek', 'Hour']\n",
    "#categorical_features = ['Base']"
   ]
  },
  {
   "cell_type": "code",
   "execution_count": 30,
   "id": "96c4bc44-340f-455c-9489-12015f7b3510",
   "metadata": {},
   "outputs": [],
   "source": [
    "# Create pipeline for numeric features\n",
    "numeric_transformer = Pipeline(steps=[\n",
    "    #('imputer', SimpleImputer()), \n",
    "    ('scaler', StandardScaler())\n",
    "])\n",
    "\n",
    "# Create pipeline for categorical features\n",
    "categorical_transformer = Pipeline(\n",
    "    steps=[\n",
    "    ('imputer', SimpleImputer(strategy='most_frequent')), # missing values will be replaced by most frequent value\n",
    "    ('encoder', OneHotEncoder(drop='first')) # first column will be dropped to avoid creating correlations between features\n",
    "    ])\n",
    "\n",
    "# Use ColumnTransformer to make a preprocessor object that describes all the treatments to be done\n",
    "preprocessor = ColumnTransformer(\n",
    "    transformers=[\n",
    "        ('num', numeric_transformer, numeric_features),\n",
    "        #('cat', categorical_transformer, categorical_features)\n",
    "    ])\n"
   ]
  },
  {
   "cell_type": "code",
   "execution_count": 31,
   "id": "f480763e-8096-4716-9845-2a1289e352d0",
   "metadata": {},
   "outputs": [],
   "source": [
    "X = preprocessor.fit_transform(df)"
   ]
  },
  {
   "cell_type": "code",
   "execution_count": 32,
   "id": "b5eff682",
   "metadata": {},
   "outputs": [
    {
     "data": {
      "text/plain": [
       "array([[-12.71465439,  -0.51931048,  -1.52451418,  -2.36003662],\n",
       "       [  0.26399745,  -0.52959958,  -1.52451418,  -2.36003662],\n",
       "       [  0.40850405,  -0.25007886,  -1.52451418,  -2.36003662],\n",
       "       ...,\n",
       "       [  2.75979784,   0.68451499,  -1.00973245,   1.32428931],\n",
       "       [ -0.76224431,  -0.59647878,  -1.00973245,   1.32428931],\n",
       "       [ -0.61773772,   0.38098635,  -1.00973245,   1.32428931]])"
      ]
     },
     "execution_count": 32,
     "metadata": {},
     "output_type": "execute_result"
    }
   ],
   "source": [
    "X"
   ]
  },
  {
   "cell_type": "markdown",
   "id": "6156c8f1-543d-44b3-a714-6bdebbb73943",
   "metadata": {},
   "source": [
    "## EDA"
   ]
  },
  {
   "cell_type": "markdown",
   "id": "f088fca5-f10e-42db-9bbd-b4a95941a144",
   "metadata": {},
   "source": [
    "#### Analysis By Weakdays"
   ]
  },
  {
   "cell_type": "code",
   "execution_count": 33,
   "id": "487bc3ea-fab6-4943-b615-a34bdbe0d4f5",
   "metadata": {},
   "outputs": [],
   "source": [
    "temp = df['DayOfWeek'].value_counts().reset_index().rename(columns={'index':'day','DayOfWeek':'count'})"
   ]
  },
  {
   "cell_type": "code",
   "execution_count": 34,
   "id": "07dec487-f63d-4158-b868-2ed2078aad9d",
   "metadata": {},
   "outputs": [
    {
     "data": {
      "text/plain": [
       "<AxesSubplot:title={'center':'Bar Plot for Weekdays trips'}, xlabel='day'>"
      ]
     },
     "execution_count": 34,
     "metadata": {},
     "output_type": "execute_result"
    },
    {
     "data": {
      "image/png": "[encoded data removed]",
      "text/plain": [
       "<Figure size 432x288 with 1 Axes>"
      ]
     },
     "metadata": {
      "needs_background": "light"
     },
     "output_type": "display_data"
    }
   ],
   "source": [
    "temp.plot(\n",
    "    kind='bar',\n",
    "    x='day',\n",
    "    y='count',\n",
    "    title='Bar Plot for Weekdays trips'\n",
    ")"
   ]
  },
  {
   "attachments": {},
   "cell_type": "markdown",
   "id": "deb43430",
   "metadata": {},
   "source": [
    "#### Analysis By Hours"
   ]
  },
  {
   "cell_type": "code",
   "execution_count": null,
   "id": "b6699ef2",
   "metadata": {},
   "outputs": [],
   "source": []
  },
  {
   "cell_type": "markdown",
   "id": "6e84bdfe-195c-49c8-be5c-47a8d7deae04",
   "metadata": {},
   "source": [
    "## Model"
   ]
  },
  {
   "cell_type": "markdown",
   "id": "40c80f25",
   "metadata": {},
   "source": [
    "##### Select $K$ optimal clusters"
   ]
  },
  {
   "cell_type": "markdown",
   "id": "2db13dcf",
   "metadata": {},
   "source": [
    "##### Elbow Method"
   ]
  },
  {
   "cell_type": "code",
   "execution_count": 60,
   "id": "b1285b17",
   "metadata": {},
   "outputs": [
    {
     "name": "stdout",
     "output_type": "stream",
     "text": [
      "[3336911.057294568, 2802149.139160916, 2312861.0371369445, 2049290.22836247, 1825436.60832266, 1678228.4780911664, 1546721.9583715345, 1497530.541558336, 1388440.9864325929]\n"
     ]
    }
   ],
   "source": [
    "# Let's create a loop that will collect the Within-sum-of-square (wcss) for each value K \n",
    "# Let's use .inertia_ parameter to get the within sum of square value for each value K \n",
    "wcss =  []\n",
    "k = []\n",
    "for i in range (2,11): \n",
    "    kmeans = KMeans(n_clusters= i, random_state = 0)\n",
    "    kmeans.fit(X)\n",
    "    wcss.append(kmeans.inertia_)\n",
    "    k.append(i)\n",
    "    # print(\"WCSS for K={} --> {}\".format(i, wcss[-1]))\n",
    "\n",
    "print(wcss)\n",
    "\n",
    "# Create DataFrame\n",
    "wcss_frame = pd.DataFrame(wcss)\n",
    "k_frame = pd.Series(k)\n",
    "\n",
    "# Create figure\n",
    "fig= px.line(\n",
    "    wcss_frame,\n",
    "    x=k_frame,\n",
    "    y=wcss_frame.iloc[:,-1]\n",
    ")\n",
    "\n",
    "# Create title and axis labels\n",
    "fig.update_layout(\n",
    "    yaxis_title=\"Inertia\",\n",
    "    xaxis_title=\"# Clusters\",\n",
    "    title=\"Inertia per cluster\"\n",
    ")\n",
    "\n",
    "# Render\n",
    "#fig.show(renderer=\"notebook\")\n",
    "# fig.show(renderer=\"iframe\") # if using workspace\n",
    "fig.show() # if using workspace"
   ]
  },
  {
   "cell_type": "markdown",
   "id": "56aabae1",
   "metadata": {},
   "source": [
    "## Silhouette 👥\n",
    "\n",
    "Let's now double check with the Silhouette method. We will use Sklearn again to get <a href=\"https://scikit-learn.org/stable/modules/generated/sklearn.metrics.silhouette_score.html?highlight=silhouette#sklearn.metrics.silhouette_score\" target=\"_blank\">silhouette scores.</a>"
   ]
  },
  {
   "cell_type": "code",
   "execution_count": null,
   "id": "da4fbd01",
   "metadata": {},
   "outputs": [],
   "source": [
    "# Import silhouette score\n",
    "from sklearn.metrics import silhouette_score\n",
    "\n",
    "# Computer mean silhouette score\n",
    "sil = []\n",
    "k = []\n",
    "\n",
    "## Careful, you need to start at i=2 as silhouette score cannot accept less than 2 labels \n",
    "for i in range (2,11): \n",
    "    kmeans = KMeans(n_clusters= i, random_state = 0)\n",
    "    kmeans.fit(X)\n",
    "    sil.append(silhouette_score(X, kmeans.predict(X)))\n",
    "    k.append(i)\n",
    "    #print(\"Silhouette score for K={} is {}\".format(i, sil[-1]))\n",
    "\n",
    "print(sil)\n",
    "\n",
    "# Create a data frame \n",
    "cluster_scores=pd.DataFrame(sil)\n",
    "k_frame = pd.Series(k)\n",
    "\n",
    "# Create figure\n",
    "fig = px.bar(data_frame=cluster_scores,  \n",
    "             x=k, \n",
    "             y=cluster_scores.iloc[:, -1]\n",
    "            )\n",
    "\n",
    "# Add title and axis labels\n",
    "fig.update_layout(\n",
    "    yaxis_title=\"Silhouette Score\",\n",
    "    xaxis_title=\"# Clusters\",\n",
    "    title=\"Silhouette Score per cluster\"\n",
    ")\n",
    "\n",
    "# Render\n",
    "#fig.show(renderer=\"notebook\")\n",
    "# fig.show(renderer=\"iframe\") # if using workspace\n",
    "fig.show() # if using workspace"
   ]
  },
  {
   "cell_type": "code",
   "execution_count": 83,
   "id": "589db10a-6817-4a90-8c7d-f9a44678ba85",
   "metadata": {},
   "outputs": [],
   "source": [
    "# define the model\n",
    "model = KMeans(n_clusters=4)\n",
    "\n",
    "# fit the model\n",
    "model.fit(X)\n",
    "\n",
    "# the prediction assign each example (pickup) to his cluster\n",
    "clusters = model.predict(X)"
   ]
  },
  {
   "cell_type": "code",
   "execution_count": null,
   "id": "31521bee",
   "metadata": {},
   "outputs": [],
   "source": [
    "fig = px.scatter_mapbox(df,\n",
    "                        lat='Lat', \n",
    "                        lon='Lon',\n",
    "                        color=clusters,\n",
    "                        zoom=5,\n",
    "                        height=800,\n",
    "                        mapbox_style='carto-positron',\n",
    "                        title='Best locations'\n",
    "                        )\n",
    "fig.show(renderer='vscode')"
   ]
  },
  {
   "attachments": {},
   "cell_type": "markdown",
   "id": "393477a3",
   "metadata": {},
   "source": [
    "> #### I have my <font color='green'>4 clusters</font>, Go ahead and Analyze those clusters."
   ]
  },
  {
   "cell_type": "markdown",
   "id": "e9e9a03c-df56-45dd-b9e7-6d990f75c6f6",
   "metadata": {},
   "source": [
    "## Analysing the results of K-means Clustering"
   ]
  },
  {
   "attachments": {},
   "cell_type": "markdown",
   "id": "badff308",
   "metadata": {},
   "source": [
    ">  I have 4 variables ('Lat', 'Lon', 'DayOfWeek', 'Hour'), We will use PCA to help us reducing the number of dimensions in a dataset so we can Visualize the results in a 2 dimesnions."
   ]
  },
  {
   "cell_type": "code",
   "execution_count": null,
   "id": "50fe5752",
   "metadata": {},
   "outputs": [],
   "source": [
    "from sklearn.decomposition import PCA\n",
    "\n",
    "# Create a PCA model to reduce our data to 2 dimensions for visualisation\n",
    "pca = PCA (n_components=2)\n",
    "pca.fit(X)\n",
    "# new PCA space\n",
    "X_reduced = pca.transform(X)\n",
    "\n",
    "# Convert to a data frame\n",
    "X_reduced_df = pd.DataFrame (X_reduced, columns=['PC1', 'PC2'])\n",
    "X_reduced_df['cluster'] = clusters\n",
    "\n",
    "# Plot\n",
    "fig = px.scatter(X_reduced_df, x='PC1', y='PC2', color='cluster')\n",
    "fig.show()"
   ]
  },
  {
   "attachments": {},
   "cell_type": "markdown",
   "id": "fa89b20f",
   "metadata": {},
   "source": [
    "> ##### We can see 4 clusters is clearly defined but it didn't tell us much. We want to understand what these clusters actually represent."
   ]
  },
  {
   "attachments": {},
   "cell_type": "markdown",
   "id": "fb9715e3",
   "metadata": {},
   "source": [
    "### Interpreting the meaning of the Clusters"
   ]
  },
  {
   "cell_type": "code",
   "execution_count": 81,
   "id": "72eca1b1",
   "metadata": {},
   "outputs": [],
   "source": [
    "X_columns = [*numeric_features]"
   ]
  },
  {
   "cell_type": "code",
   "execution_count": null,
   "id": "413a302f",
   "metadata": {},
   "outputs": [],
   "source": [
    "X_clustered = pd.DataFrame(X, columns=X_columns)\n",
    "X_clustered[\"cluster\"] = clusters\n",
    "display_parallel_coordinates(X_clustered, 4)"
   ]
  },
  {
   "attachments": {},
   "cell_type": "markdown",
   "id": "75decdc2",
   "metadata": {},
   "source": [
    "> #### With so many lines, it's a difficult to pick out the characteristics of the clusters."
   ]
  },
  {
   "cell_type": "markdown",
   "id": "d6398275",
   "metadata": {},
   "source": [
    "> #### But Centroid (a new datapoint representing the center of each cluster) is very usefult to summary of each cluster. "
   ]
  },
  {
   "cell_type": "code",
   "execution_count": null,
   "id": "4c2c9929",
   "metadata": {},
   "outputs": [],
   "source": [
    "centroids = pd.DataFrame(model.cluster_centers_, columns=X_columns)\n",
    "centroids['cluster'] = centroids.index\n",
    "display_parallel_coordinates_centroids(centroids, 4)"
   ]
  },
  {
   "cell_type": "code",
   "execution_count": null,
   "id": "afd8ea36",
   "metadata": {},
   "outputs": [],
   "source": []
  }
 ],
 "metadata": {
  "kernelspec": {
   "display_name": "Python 3 (ipykernel)",
   "language": "python",
   "name": "python3"
  },
  "language_info": {
   "codemirror_mode": {
    "name": "ipython",
    "version": 3
   },
   "file_extension": ".py",
   "mimetype": "text/x-python",
   "name": "python",
   "nbconvert_exporter": "python",
   "pygments_lexer": "ipython3",
   "version": "3.9.12"
  },
  "vscode": {
   "interpreter": {
    "hash": "c766f7c526f554c39534ac5a6b6631b3579ceeff597e65c8c23f9bc665d77d04"
   }
  }
 },
 "nbformat": 4,
 "nbformat_minor": 5
}
